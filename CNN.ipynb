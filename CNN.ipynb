{
 "cells": [
  {
   "cell_type": "code",
   "execution_count": 1,
   "metadata": {},
   "outputs": [
    {
     "name": "stderr",
     "output_type": "stream",
     "text": [
      "2024-03-27 09:50:40.758689: I external/local_tsl/tsl/cuda/cudart_stub.cc:32] Could not find cuda drivers on your machine, GPU will not be used.\n",
      "2024-03-27 09:50:40.929981: I external/local_tsl/tsl/cuda/cudart_stub.cc:32] Could not find cuda drivers on your machine, GPU will not be used.\n",
      "2024-03-27 09:50:41.502623: I tensorflow/core/platform/cpu_feature_guard.cc:210] This TensorFlow binary is optimized to use available CPU instructions in performance-critical operations.\n",
      "To enable the following instructions: AVX2 FMA, in other operations, rebuild TensorFlow with the appropriate compiler flags.\n",
      "2024-03-27 09:50:43.071739: W tensorflow/compiler/tf2tensorrt/utils/py_utils.cc:38] TF-TRT Warning: Could not find TensorRT\n"
     ]
    }
   ],
   "source": [
    "# TensorFlow and tf.keras\n",
    "# Need to install tensorflow and keras library if not already installed\n",
    "import tensorflow as tf\n",
    "from tensorflow.keras.preprocessing.image import ImageDataGenerator #For processing the images so they can be run through the network\n",
    "from tensorflow.keras.models import Sequential #Needed for building the network nodes\n",
    "from tensorflow.keras.layers import Conv2D, MaxPooling2D, Flatten, Dense #Needed for building the Coonvultional layers\n",
    "from tensorflow.keras.models import load_model\n",
    "from tensorflow.keras.preprocessing import image\n",
    "\n"
   ]
  },
  {
   "cell_type": "code",
   "execution_count": 2,
   "metadata": {},
   "outputs": [
    {
     "ename": "ModuleNotFoundError",
     "evalue": "No module named 'matplotlib'",
     "output_type": "error",
     "traceback": [
      "\u001b[0;31m---------------------------------------------------------------------------\u001b[0m",
      "\u001b[0;31mModuleNotFoundError\u001b[0m                       Traceback (most recent call last)",
      "Cell \u001b[0;32mIn[2], line 3\u001b[0m\n\u001b[1;32m      1\u001b[0m \u001b[38;5;66;03m# Helper libraries\u001b[39;00m\n\u001b[1;32m      2\u001b[0m \u001b[38;5;28;01mimport\u001b[39;00m \u001b[38;5;21;01mnumpy\u001b[39;00m \u001b[38;5;28;01mas\u001b[39;00m \u001b[38;5;21;01mnp\u001b[39;00m\n\u001b[0;32m----> 3\u001b[0m \u001b[38;5;28;01mimport\u001b[39;00m \u001b[38;5;21;01mmatplotlib\u001b[39;00m\u001b[38;5;21;01m.\u001b[39;00m\u001b[38;5;21;01mpyplot\u001b[39;00m \u001b[38;5;28;01mas\u001b[39;00m \u001b[38;5;21;01mplt\u001b[39;00m\n\u001b[1;32m      4\u001b[0m \u001b[38;5;28;01mimport\u001b[39;00m \u001b[38;5;21;01mos\u001b[39;00m\n\u001b[1;32m      5\u001b[0m \u001b[38;5;28;01mfrom\u001b[39;00m \u001b[38;5;21;01mgoogle\u001b[39;00m\u001b[38;5;21;01m.\u001b[39;00m\u001b[38;5;21;01mcolab\u001b[39;00m \u001b[38;5;28;01mimport\u001b[39;00m auth, drive \u001b[38;5;66;03m#For accessing the database through drive\u001b[39;00m\n",
      "\u001b[0;31mModuleNotFoundError\u001b[0m: No module named 'matplotlib'"
     ]
    }
   ],
   "source": [
    "# Helper libraries\n",
    "import numpy as np\n",
    "import matplotlib.pyplot as plt\n",
    "import os\n",
    "from google.colab import auth, drive #For accessing the database through drive\n",
    "auth.authenticate_user()\n",
    "drive.mount(\"/content/drive\", force_remount=True)"
   ]
  },
  {
   "cell_type": "code",
   "execution_count": null,
   "metadata": {},
   "outputs": [],
   "source": [
    "# Define paths to the training and testing data directories\n",
    "\n",
    "datasets = \"Path for dataset\" ###Need to change for the right path\"\n",
    "\n",
    "train_data_dir = os.path.join(datasets, \"training\")\n",
    "test_data_dir = os.path.join(datasets, \"validation\")\n",
    "\n",
    "print(os.listdir(train_data_dir))\n",
    "print(os.listdir(test_data_dir))\n",
    "#Incase we need access to specific cat breed folders I will make variables with directories to each one\n",
    "\"\"\"See training folders\"\"\"\n",
    "# Need to change with right breeds\n",
    "training_persion = os.path.join(train_data_dir, \"Bulldog\")\n",
    "training_abyssian = os.path.join(train_data_dir, \"German Shepherd\")\n",
    "training_munchkin = os.path.join(train_data_dir, \"Golden Retriever\")\n",
    "training_toyger = os.path.join(train_data_dir, \"Pitbull\")\n",
    "\n",
    "\"\"\"See testing folders\"\"\"\n",
    "testing_munchkin = os.path.join(test_data_dir, \"Bulldog\")\n",
    "testing_toyger = os.path.join(test_data_dir, \"German Shepherd\")\n",
    "testing_abyssian = os.path.join(test_data_dir, \"Golden Retriever\")\n",
    "testing_persian = os.path.join(test_data_dir, \"Pitbull\")"
   ]
  },
  {
   "cell_type": "code",
   "execution_count": null,
   "metadata": {},
   "outputs": [],
   "source": [
    "\n",
    "# Define image dimensions and batch size\n",
    "img_width, img_height = 150, 150\n",
    "batch_size = 32 # determes the number of samples processed by the model in each training iteration\n",
    "\n",
    "# Create data generors with augmentation for training and validation data\n",
    "train_datagen = ImageDataGenerator(\n",
    "    rescale=1./255,             # Rescale pixel values to [0,1]\n",
    "    shear_range=0.2,            # Shearing transformation\n",
    "    zoom_range=0.2,             # Zooming transformation\n",
    "    horizontal_flip=True)       # Horizontal flipping\n",
    "\n",
    "test_datagen = ImageDataGenerator(rescale=1./255)  # Rescale pixel values for testing data"
   ]
  },
  {
   "cell_type": "code",
   "execution_count": null,
   "metadata": {},
   "outputs": [],
   "source": [
    "\"\"\"\n",
    "train_generator is an object that will continuously generate batches of training data from the specified directory\n",
    "with images resized to  dimensions and one encoded class\n",
    "labels suitable for multi-class classification tasks.\n",
    "\n",
    "- train_datagen is a instance of the ImageDataGenerator used to prepocess the images\n",
    "- flow_from_directory method of the ImageDataGenerator class\n",
    "- class_mode specifies the type of labels returned by the generator\n",
    "\"\"\"\n",
    "train_generator = train_datagen.flow_from_directory(\n",
    "    train_data_dir, target_size=(img_width, img_height), batch_size=batch_size,\n",
    "    class_mode='categorical')  # Use categorical labels for multi-class classification\n",
    "\n",
    "validation_generator = test_datagen.flow_from_directory(\n",
    "    test_data_dir, target_size=(img_width, img_height), batch_size=batch_size,\n",
    "    class_mode='categorical')"
   ]
  },
  {
   "cell_type": "code",
   "execution_count": null,
   "metadata": {},
   "outputs": [],
   "source": [
    "# Define the CNN model\n",
    "model = Sequential()  # Create a sequential model\n",
    "\n",
    "# Adding Convolutional layers with MaxPooling\n",
    "model.add(Conv2D(32, (3, 3), activation='relu', input_shape=(img_width, img_height, 3)))\n",
    "model.add(MaxPooling2D((2, 2)))\n",
    "\n",
    "model.add(Conv2D(32, (3, 3), activation='relu'))\n",
    "model.add(MaxPooling2D((2, 2)))\n",
    "\n",
    "model.add(Conv2D(64, (3, 3), activation='relu'))\n",
    "model.add(MaxPooling2D((2, 2)))\n",
    "\n",
    "model.add(Conv2D(64, (3, 3), activation='relu'))\n",
    "model.add(MaxPooling2D((2, 2)))\n",
    "\n",
    "model.add(Conv2D(128, (3, 3), activation='relu'))\n",
    "model.add(MaxPooling2D((2, 2)))\n",
    "\n",
    "model.summary()"
   ]
  },
  {
   "cell_type": "code",
   "execution_count": null,
   "metadata": {},
   "outputs": [],
   "source": [
    "# Flatten the output from Convolutional layers for input to Dense layers\n",
    "model.add(Flatten())\n",
    "\n",
    "# Add Dense layers\n",
    "model.add(Dense(512, activation='relu'))\n",
    "model.add(Dense(len(train_generator.class_indices), activation='softmax'))  # Output layer\n",
    "\n",
    "model.summary()\n",
    "\n",
    "# Compile the model\n",
    "model.compile(optimizer='adam', loss='categorical_crossentropy', metrics=['accuracy'])"
   ]
  },
  {
   "cell_type": "code",
   "execution_count": null,
   "metadata": {},
   "outputs": [],
   "source": [
    "# Train the model\n",
    "history = model.fit(\n",
    "    train_generator,\n",
    "    steps_per_epoch=train_generator.samples // batch_size,  # Number of steps per epoch,\n",
    "    epochs=15,                                              # Number of epochs\n",
    "    validation_data=validation_generator,\n",
    "    validation_steps=validation_generator.samples // batch_size)  # Number of validation steps"
   ]
  },
  {
   "cell_type": "code",
   "execution_count": null,
   "metadata": {},
   "outputs": [],
   "source": [
    "# Save the trained model/ Donot run unless acuraccy over 80%\n",
    "model.save('Dog_breed_classifier_model.h5')"
   ]
  },
  {
   "cell_type": "code",
   "execution_count": null,
   "metadata": {},
   "outputs": [],
   "source": [
    "# Evaluate the Accuracy of the model\n",
    "# Could not run because I forgot the passwowrd\n",
    "# validation_generator yields batches of images and their corresponding labels from the specified directory.IF we do not like how it works we can change it\n",
    "test_loss, test_accuracy = model.evaluate(validation_generator, verbose = 2)\n",
    "\n",
    "# Printing the accuracy\n",
    "print('\\nTest Accuracy:', test_accuracy)"
   ]
  },
  {
   "cell_type": "code",
   "execution_count": null,
   "metadata": {},
   "outputs": [],
   "source": [
    "#Prediction\n",
    "probability_model = tf.keras.Sequential([model,\n",
    "                                         tf.keras.layers.Softmax()])\n",
    "predictions = probability_model.predict(test_data_dir)\n",
    "\n",
    "# need a way for us to see it"
   ]
  },
  {
   "cell_type": "code",
   "execution_count": null,
   "metadata": {},
   "outputs": [],
   "source": [
    "#Loading the model\n",
    "model = load_model('cog_breed_classifier_model.h5')"
   ]
  },
  {
   "cell_type": "code",
   "execution_count": null,
   "metadata": {},
   "outputs": [],
   "source": [
    "# Load and preprocess the input image in order for it to be the same way as the training set\n",
    "img_path = 'We need to specify the path to the image input'\n",
    "img = image.load_img(img_path, target_size=(150, 150))  # Resize image to match model input dimensions\n",
    "img_array = image.img_to_array(img)\n",
    "img_array = img_array / 255.0  # Normalize pixel values\n",
    "img_array = np.expand_dims(img_array, axis=0)  # Add batch dimension\n",
    "\n"
   ]
  },
  {
   "cell_type": "code",
   "execution_count": null,
   "metadata": {},
   "outputs": [],
   "source": [
    "#Interpreting Predictions\n",
    "predictions = model.predict(img_array)"
   ]
  },
  {
   "cell_type": "code",
   "execution_count": null,
   "metadata": {},
   "outputs": [],
   "source": [
    "# Interpreting the prediction\n",
    "predicted_class_index = np.argmax(predictions) # argmax is used to find the index of the class with the highes probability.\n",
    "predicted_class_probability = np.max(predictions) #use max to show the one with the highest probability\n",
    "class_labels = [\"Bulldog\", \"German Shepherd\",\"Golden Retriever\",\"Pitbull\"]\n",
    "predicted_class_label = class_labels[predicted_class_index]"
   ]
  },
  {
   "cell_type": "code",
   "execution_count": null,
   "metadata": {},
   "outputs": [],
   "source": [
    "print('Predicted Class: ', predicted_class_label)\n",
    "print('Predicted Probability: ', predicted_class_probability)"
   ]
  }
 ],
 "metadata": {
  "kernelspec": {
   "display_name": "Python 3",
   "language": "python",
   "name": "python3"
  },
  "language_info": {
   "codemirror_mode": {
    "name": "ipython",
    "version": 3
   },
   "file_extension": ".py",
   "mimetype": "text/x-python",
   "name": "python",
   "nbconvert_exporter": "python",
   "pygments_lexer": "ipython3",
   "version": "3.10.12"
  }
 },
 "nbformat": 4,
 "nbformat_minor": 2
}
